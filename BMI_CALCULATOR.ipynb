{
  "nbformat": 4,
  "nbformat_minor": 0,
  "metadata": {
    "colab": {
      "provenance": []
    },
    "kernelspec": {
      "name": "python3",
      "display_name": "Python 3"
    },
    "language_info": {
      "name": "python"
    }
  },
  "cells": [
    {
      "cell_type": "markdown",
      "source": [
        "#**BMI CALCULATOR**"
      ],
      "metadata": {
        "id": "z4wCdl865phx"
      }
    },
    {
      "cell_type": "code",
      "execution_count": 1,
      "metadata": {
        "colab": {
          "base_uri": "https://localhost:8080/"
        },
        "id": "6Ncnl28w5Wtl",
        "outputId": "d1af571c-24b7-428d-93a1-fcbbe62f20c3"
      },
      "outputs": [
        {
          "output_type": "stream",
          "name": "stdout",
          "text": [
            "Enter your height in centimeters: 170\n",
            "Enter your Weight in Kg: 60\n",
            "your Body Mass Index is:  20.761245674740486\n",
            "you are Healthy\n"
          ]
        }
      ],
      "source": [
        "Height=float(input(\"Enter your height in centimeters: \"))\n",
        "Weight=float(input(\"Enter your Weight in Kg: \"))\n",
        "Height = Height/100\n",
        "BMI=Weight/(Height*Height)\n",
        "print(\"your Body Mass Index is: \",BMI)\n",
        "if(BMI>0):\n",
        "\tif(BMI<=16):\n",
        "\t\tprint(\"you are severely underweight\")\n",
        "\telif(BMI<=18.5):\n",
        "\t\tprint(\"you are underweight\")\n",
        "\telif(BMI<=25):\n",
        "\t\tprint(\"you are Healthy\")\n",
        "\telif(BMI<=30):\n",
        "\t\tprint(\"you are overweight\")\n",
        "\telse: print(\"you are severely overweight\")\n",
        "else:(\"enter valid details\")"
      ]
    }
  ]
}